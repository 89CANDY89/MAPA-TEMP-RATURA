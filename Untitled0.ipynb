{
  "nbformat": 4,
  "nbformat_minor": 0,
  "metadata": {
    "colab": {
      "provenance": [],
      "authorship_tag": "ABX9TyM0f0TUD9D7DVkmQUsnEvn3",
      "include_colab_link": true
    },
    "kernelspec": {
      "name": "python3",
      "display_name": "Python 3"
    },
    "language_info": {
      "name": "python"
    }
  },
  "cells": [
    {
      "cell_type": "markdown",
      "metadata": {
        "id": "view-in-github",
        "colab_type": "text"
      },
      "source": [
        "<a href=\"https://colab.research.google.com/github/89CANDY89/MAPA-TEMPERATURA/blob/main/Untitled0.ipynb\" target=\"_parent\"><img src=\"https://colab.research.google.com/assets/colab-badge.svg\" alt=\"Open In Colab\"/></a>"
      ]
    },
    {
      "cell_type": "code",
      "execution_count": null,
      "metadata": {
        "id": "uyBAGdzzMNy1"
      },
      "outputs": [],
      "source": [
        "!pip install caret\n",
        "!pip install geopandas\n",
        "!pip install shapely\n",
        "!pip install geobr\n",
        "!pip install sf\n",
        "!pip install rasterio\n",
        "!pip install rasterstats\n",
        "!pip install seaborn\n",
        "!pip install pandas"
      ]
    },
    {
      "cell_type": "code",
      "source": [
        "!pip install requests\n"
      ],
      "metadata": {
        "colab": {
          "base_uri": "https://localhost:8080/"
        },
        "id": "8IGeJCnSUSCW",
        "outputId": "05f3de57-7516-4231-ebdc-eadaa503f0cc"
      },
      "execution_count": 23,
      "outputs": [
        {
          "output_type": "stream",
          "name": "stdout",
          "text": [
            "Requirement already satisfied: requests in /usr/local/lib/python3.10/dist-packages (2.31.0)\n",
            "Requirement already satisfied: charset-normalizer<4,>=2 in /usr/local/lib/python3.10/dist-packages (from requests) (3.3.2)\n",
            "Requirement already satisfied: idna<4,>=2.5 in /usr/local/lib/python3.10/dist-packages (from requests) (3.4)\n",
            "Requirement already satisfied: urllib3<3,>=1.21.1 in /usr/local/lib/python3.10/dist-packages (from requests) (2.0.7)\n",
            "Requirement already satisfied: certifi>=2017.4.17 in /usr/local/lib/python3.10/dist-packages (from requests) (2023.7.22)\n"
          ]
        }
      ]
    },
    {
      "cell_type": "code",
      "source": [
        "import caret\n",
        "import geopandas as gpd\n",
        "import rasterio\n",
        "import rasterstats\n",
        "import seaborn as sns\n",
        "import pandas as pd\n",
        "import multiprocessing\n",
        "import seaborn as sns\n",
        "import matplotlib.pyplot as plt"
      ],
      "metadata": {
        "id": "2b9-33ZNPlnC"
      },
      "execution_count": 18,
      "outputs": []
    },
    {
      "cell_type": "code",
      "source": [
        "# Detect number of cores\n",
        "cores = multiprocessing.cpu_count()\n",
        "print(f\"Number of cores detected: {cores}\")"
      ],
      "metadata": {
        "colab": {
          "base_uri": "https://localhost:8080/"
        },
        "id": "WFSoYzASPqeK",
        "outputId": "5c5987d0-6411-4ffa-f33a-e5a1c31ec20e"
      },
      "execution_count": 11,
      "outputs": [
        {
          "output_type": "stream",
          "name": "stdout",
          "text": [
            "Number of cores detected: 2\n"
          ]
        }
      ]
    },
    {
      "cell_type": "code",
      "source": [
        "# Read data\n",
        "url = 'https://raw.githubusercontent.com/89CANDY89/MAPA-TEMPERATURA/main/mapa_temperatura/dados/dados_temperatura.csv'\n",
        "data = pd.read_csv(url)\n"
      ],
      "metadata": {
        "id": "R0iGqtQDREGK"
      },
      "execution_count": 12,
      "outputs": []
    },
    {
      "cell_type": "code",
      "source": [
        "print(data.columns)"
      ],
      "metadata": {
        "colab": {
          "base_uri": "https://localhost:8080/"
        },
        "id": "MX2rPajnRQ6d",
        "outputId": "6f0d3aed-515c-4785-9e52-1e9c59838729"
      },
      "execution_count": 15,
      "outputs": [
        {
          "output_type": "stream",
          "name": "stdout",
          "text": [
            "Index(['codigo', 'lat', 'lon', 'alt', 'temp'], dtype='object')\n"
          ]
        }
      ]
    },
    {
      "cell_type": "code",
      "source": [
        "# Create plot\n",
        "g = sns.scatterplot(data=data, x='alt', y='temp', color='red')\n",
        "plt.show()"
      ],
      "metadata": {
        "colab": {
          "base_uri": "https://localhost:8080/",
          "height": 449
        },
        "id": "1vNwdr7oREdG",
        "outputId": "cfeee346-a034-4e1f-aed0-c48a60055af4"
      },
      "execution_count": 20,
      "outputs": [
        {
          "output_type": "display_data",
          "data": {
            "text/plain": [
              "<Figure size 640x480 with 1 Axes>"
            ],
            "image/png": "[encoded data removed]"
          },
          "metadata": {}
        }
      ]
    },
    {
      "cell_type": "code",
      "source": [
        "import requests\n",
        "\n",
        "url = 'https://github.com/89CANDY89/MAPA-TEMPERATURA/blob/main/mapa_temperatura/dados/dados_temperatura.csv?raw=true'\n",
        "df = pd.read_csv(url)"
      ],
      "metadata": {
        "id": "2GDA85T9SpS-"
      },
      "execution_count": 37,
      "outputs": []
    },
    {
      "cell_type": "code",
      "source": [
        "import rasterio\n",
        "\n",
        "minha_url = 'https://github.com/89CANDY89/MAPA-TEMP-RATURA/blob/main/mapa_temperatura/dados/relevo_minas_gerais.tif'\n",
        "response = requests.get(minha_url)\n",
        "\n",
        "with open('relevo_minas_gerais.tif', 'wb') as f:\n",
        "    f.write(response.content)\n"
      ],
      "metadata": {
        "id": "NcseAcVKXFHh"
      },
      "execution_count": 39,
      "outputs": []
    }
  ]
}